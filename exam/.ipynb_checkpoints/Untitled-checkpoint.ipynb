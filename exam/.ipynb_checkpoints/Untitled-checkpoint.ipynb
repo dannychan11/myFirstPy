{
 "cells": [
  {
   "cell_type": "code",
   "execution_count": null,
   "metadata": {},
   "outputs": [],
   "source": [
    "import re\n",
    "s1='Hello, this is Joey'\n",
    "s2='The first price is $9.90 and the second price is $100'\n",
    "re.findall('\\d',s1)"
   ]
  }
 ],
 "metadata": {},
 "nbformat": 4,
 "nbformat_minor": 2
}
